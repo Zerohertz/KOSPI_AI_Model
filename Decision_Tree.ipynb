{
 "cells": [
  {
   "cell_type": "markdown",
   "metadata": {},
   "source": [
    "# 결정 트리 기법\n",
    "\n",
    "~~~\n",
    "import sklearn\n",
    "dummy_clf = DummyClassifier()\n",
    "dummy_clf.fit(X_train, y_train)\n",
    "y_new = dummy_clf.predict(X_new)\n",
    "~~~\n",
    "\n",
    "1. `sklearn` 모듈을 import\n",
    "2. `DummyClassifier()`라는 객체(클래스)를 통해 `dummy_clf`라는 인스턴스 생성\n",
    "3. `dummy_clf`의 메서드인 `fit()` 함수를 통해 X와 y에 대한 학습 진행\n",
    "4. `dummy_clf`의 메서드인 `predict()` 함수를 통해 새로운 X를 통해 y에 대한 예측"
   ]
  },
  {
   "cell_type": "code",
   "execution_count": 1,
   "metadata": {},
   "outputs": [],
   "source": [
    "import numpy as np\n",
    "import pandas as pd\n",
    "import matplotlib.pyplot as plt\n",
    "from sklearn.tree import export_graphviz\n",
    "from sklearn.tree import DecisionTreeClassifier\n",
    "from sklearn.model_selection import StratifiedShuffleSplit"
   ]
  },
  {
   "cell_type": "code",
   "execution_count": 2,
   "metadata": {},
   "outputs": [],
   "source": [
    "model_data = pd.read_csv(\"data.csv\")"
   ]
  },
  {
   "cell_type": "code",
   "execution_count": 3,
   "metadata": {},
   "outputs": [
    {
     "data": {
      "text/html": [
       "<div>\n",
       "<style scoped>\n",
       "    .dataframe tbody tr th:only-of-type {\n",
       "        vertical-align: middle;\n",
       "    }\n",
       "\n",
       "    .dataframe tbody tr th {\n",
       "        vertical-align: top;\n",
       "    }\n",
       "\n",
       "    .dataframe thead th {\n",
       "        text-align: right;\n",
       "    }\n",
       "</style>\n",
       "<table border=\"1\" class=\"dataframe\">\n",
       "  <thead>\n",
       "    <tr style=\"text-align: right;\">\n",
       "      <th></th>\n",
       "      <th>krw</th>\n",
       "      <th>vko</th>\n",
       "      <th>wti</th>\n",
       "      <th>cboe</th>\n",
       "      <th>label_ko</th>\n",
       "    </tr>\n",
       "  </thead>\n",
       "  <tbody>\n",
       "    <tr>\n",
       "      <th>0</th>\n",
       "      <td>1906.62</td>\n",
       "      <td>14.98</td>\n",
       "      <td>105.30</td>\n",
       "      <td>12.72</td>\n",
       "      <td>neutral</td>\n",
       "    </tr>\n",
       "    <tr>\n",
       "      <th>1</th>\n",
       "      <td>1878.33</td>\n",
       "      <td>15.35</td>\n",
       "      <td>104.37</td>\n",
       "      <td>12.98</td>\n",
       "      <td>up</td>\n",
       "    </tr>\n",
       "    <tr>\n",
       "      <th>2</th>\n",
       "      <td>1883.97</td>\n",
       "      <td>14.96</td>\n",
       "      <td>103.40</td>\n",
       "      <td>12.73</td>\n",
       "      <td>up</td>\n",
       "    </tr>\n",
       "    <tr>\n",
       "      <th>3</th>\n",
       "      <td>1880.71</td>\n",
       "      <td>14.38</td>\n",
       "      <td>105.97</td>\n",
       "      <td>13.41</td>\n",
       "      <td>up</td>\n",
       "    </tr>\n",
       "    <tr>\n",
       "      <th>4</th>\n",
       "      <td>1884.83</td>\n",
       "      <td>14.72</td>\n",
       "      <td>106.11</td>\n",
       "      <td>12.81</td>\n",
       "      <td>up</td>\n",
       "    </tr>\n",
       "    <tr>\n",
       "      <th>...</th>\n",
       "      <td>...</td>\n",
       "      <td>...</td>\n",
       "      <td>...</td>\n",
       "      <td>...</td>\n",
       "      <td>...</td>\n",
       "    </tr>\n",
       "    <tr>\n",
       "      <th>1700</th>\n",
       "      <td>2167.90</td>\n",
       "      <td>24.83</td>\n",
       "      <td>56.74</td>\n",
       "      <td>34.12</td>\n",
       "      <td>up</td>\n",
       "    </tr>\n",
       "    <tr>\n",
       "      <th>1701</th>\n",
       "      <td>2150.25</td>\n",
       "      <td>23.63</td>\n",
       "      <td>55.59</td>\n",
       "      <td>31.44</td>\n",
       "      <td>up</td>\n",
       "    </tr>\n",
       "    <tr>\n",
       "      <th>1702</th>\n",
       "      <td>2186.06</td>\n",
       "      <td>24.45</td>\n",
       "      <td>54.19</td>\n",
       "      <td>27.98</td>\n",
       "      <td>up</td>\n",
       "    </tr>\n",
       "    <tr>\n",
       "      <th>1703</th>\n",
       "      <td>2183.61</td>\n",
       "      <td>23.63</td>\n",
       "      <td>53.14</td>\n",
       "      <td>27.57</td>\n",
       "      <td>up</td>\n",
       "    </tr>\n",
       "    <tr>\n",
       "      <th>1704</th>\n",
       "      <td>2201.88</td>\n",
       "      <td>23.48</td>\n",
       "      <td>53.48</td>\n",
       "      <td>33.04</td>\n",
       "      <td>up</td>\n",
       "    </tr>\n",
       "  </tbody>\n",
       "</table>\n",
       "<p>1705 rows × 5 columns</p>\n",
       "</div>"
      ],
      "text/plain": [
       "          krw    vko     wti   cboe label_ko\n",
       "0     1906.62  14.98  105.30  12.72  neutral\n",
       "1     1878.33  15.35  104.37  12.98       up\n",
       "2     1883.97  14.96  103.40  12.73       up\n",
       "3     1880.71  14.38  105.97  13.41       up\n",
       "4     1884.83  14.72  106.11  12.81       up\n",
       "...       ...    ...     ...    ...      ...\n",
       "1700  2167.90  24.83   56.74  34.12       up\n",
       "1701  2150.25  23.63   55.59  31.44       up\n",
       "1702  2186.06  24.45   54.19  27.98       up\n",
       "1703  2183.61  23.63   53.14  27.57       up\n",
       "1704  2201.88  23.48   53.48  33.04       up\n",
       "\n",
       "[1705 rows x 5 columns]"
      ]
     },
     "execution_count": 3,
     "metadata": {},
     "output_type": "execute_result"
    }
   ],
   "source": [
    "model_data"
   ]
  },
  {
   "cell_type": "code",
   "execution_count": 4,
   "metadata": {},
   "outputs": [],
   "source": [
    "X = model_data.iloc[:, :4]"
   ]
  },
  {
   "cell_type": "code",
   "execution_count": 5,
   "metadata": {},
   "outputs": [
    {
     "data": {
      "text/html": [
       "<div>\n",
       "<style scoped>\n",
       "    .dataframe tbody tr th:only-of-type {\n",
       "        vertical-align: middle;\n",
       "    }\n",
       "\n",
       "    .dataframe tbody tr th {\n",
       "        vertical-align: top;\n",
       "    }\n",
       "\n",
       "    .dataframe thead th {\n",
       "        text-align: right;\n",
       "    }\n",
       "</style>\n",
       "<table border=\"1\" class=\"dataframe\">\n",
       "  <thead>\n",
       "    <tr style=\"text-align: right;\">\n",
       "      <th></th>\n",
       "      <th>krw</th>\n",
       "      <th>vko</th>\n",
       "      <th>wti</th>\n",
       "      <th>cboe</th>\n",
       "    </tr>\n",
       "  </thead>\n",
       "  <tbody>\n",
       "    <tr>\n",
       "      <th>0</th>\n",
       "      <td>1906.62</td>\n",
       "      <td>14.98</td>\n",
       "      <td>105.30</td>\n",
       "      <td>12.72</td>\n",
       "    </tr>\n",
       "    <tr>\n",
       "      <th>1</th>\n",
       "      <td>1878.33</td>\n",
       "      <td>15.35</td>\n",
       "      <td>104.37</td>\n",
       "      <td>12.98</td>\n",
       "    </tr>\n",
       "    <tr>\n",
       "      <th>2</th>\n",
       "      <td>1883.97</td>\n",
       "      <td>14.96</td>\n",
       "      <td>103.40</td>\n",
       "      <td>12.73</td>\n",
       "    </tr>\n",
       "    <tr>\n",
       "      <th>3</th>\n",
       "      <td>1880.71</td>\n",
       "      <td>14.38</td>\n",
       "      <td>105.97</td>\n",
       "      <td>13.41</td>\n",
       "    </tr>\n",
       "    <tr>\n",
       "      <th>4</th>\n",
       "      <td>1884.83</td>\n",
       "      <td>14.72</td>\n",
       "      <td>106.11</td>\n",
       "      <td>12.81</td>\n",
       "    </tr>\n",
       "    <tr>\n",
       "      <th>...</th>\n",
       "      <td>...</td>\n",
       "      <td>...</td>\n",
       "      <td>...</td>\n",
       "      <td>...</td>\n",
       "    </tr>\n",
       "    <tr>\n",
       "      <th>1700</th>\n",
       "      <td>2167.90</td>\n",
       "      <td>24.83</td>\n",
       "      <td>56.74</td>\n",
       "      <td>34.12</td>\n",
       "    </tr>\n",
       "    <tr>\n",
       "      <th>1701</th>\n",
       "      <td>2150.25</td>\n",
       "      <td>23.63</td>\n",
       "      <td>55.59</td>\n",
       "      <td>31.44</td>\n",
       "    </tr>\n",
       "    <tr>\n",
       "      <th>1702</th>\n",
       "      <td>2186.06</td>\n",
       "      <td>24.45</td>\n",
       "      <td>54.19</td>\n",
       "      <td>27.98</td>\n",
       "    </tr>\n",
       "    <tr>\n",
       "      <th>1703</th>\n",
       "      <td>2183.61</td>\n",
       "      <td>23.63</td>\n",
       "      <td>53.14</td>\n",
       "      <td>27.57</td>\n",
       "    </tr>\n",
       "    <tr>\n",
       "      <th>1704</th>\n",
       "      <td>2201.88</td>\n",
       "      <td>23.48</td>\n",
       "      <td>53.48</td>\n",
       "      <td>33.04</td>\n",
       "    </tr>\n",
       "  </tbody>\n",
       "</table>\n",
       "<p>1705 rows × 4 columns</p>\n",
       "</div>"
      ],
      "text/plain": [
       "          krw    vko     wti   cboe\n",
       "0     1906.62  14.98  105.30  12.72\n",
       "1     1878.33  15.35  104.37  12.98\n",
       "2     1883.97  14.96  103.40  12.73\n",
       "3     1880.71  14.38  105.97  13.41\n",
       "4     1884.83  14.72  106.11  12.81\n",
       "...       ...    ...     ...    ...\n",
       "1700  2167.90  24.83   56.74  34.12\n",
       "1701  2150.25  23.63   55.59  31.44\n",
       "1702  2186.06  24.45   54.19  27.98\n",
       "1703  2183.61  23.63   53.14  27.57\n",
       "1704  2201.88  23.48   53.48  33.04\n",
       "\n",
       "[1705 rows x 4 columns]"
      ]
     },
     "execution_count": 5,
     "metadata": {},
     "output_type": "execute_result"
    }
   ],
   "source": [
    "X"
   ]
  },
  {
   "cell_type": "code",
   "execution_count": 6,
   "metadata": {},
   "outputs": [],
   "source": [
    "X_names = X.columns"
   ]
  },
  {
   "cell_type": "code",
   "execution_count": 7,
   "metadata": {},
   "outputs": [],
   "source": [
    "y = model_data[\"label_ko\"]"
   ]
  },
  {
   "cell_type": "code",
   "execution_count": 8,
   "metadata": {},
   "outputs": [
    {
     "data": {
      "text/plain": [
       "0       neutral\n",
       "1            up\n",
       "2            up\n",
       "3            up\n",
       "4            up\n",
       "         ...   \n",
       "1700         up\n",
       "1701         up\n",
       "1702         up\n",
       "1703         up\n",
       "1704         up\n",
       "Name: label_ko, Length: 1705, dtype: object"
      ]
     },
     "execution_count": 8,
     "metadata": {},
     "output_type": "execute_result"
    }
   ],
   "source": [
    "y"
   ]
  },
  {
   "cell_type": "code",
   "execution_count": 9,
   "metadata": {},
   "outputs": [],
   "source": [
    "X = X[y.notna()]"
   ]
  },
  {
   "cell_type": "code",
   "execution_count": 10,
   "metadata": {},
   "outputs": [],
   "source": [
    "y = y[y.notna()]"
   ]
  },
  {
   "cell_type": "code",
   "execution_count": 11,
   "metadata": {},
   "outputs": [],
   "source": [
    "sss = StratifiedShuffleSplit(n_splits=1, test_size=0.2, random_state=0)"
   ]
  },
  {
   "cell_type": "code",
   "execution_count": 12,
   "metadata": {},
   "outputs": [
    {
     "data": {
      "text/plain": [
       "StratifiedShuffleSplit(n_splits=1, random_state=0, test_size=0.2,\n",
       "            train_size=None)"
      ]
     },
     "execution_count": 12,
     "metadata": {},
     "output_type": "execute_result"
    }
   ],
   "source": [
    "sss"
   ]
  },
  {
   "cell_type": "code",
   "execution_count": 13,
   "metadata": {},
   "outputs": [],
   "source": [
    "for train_index, test_index in sss.split(X, y):\n",
    "    X_train, X_test = X.iloc[train_index], X.iloc[test_index,]\n",
    "    y_train, y_test = y.iloc[train_index], X.iloc[test_index]"
   ]
  },
  {
   "cell_type": "code",
   "execution_count": 14,
   "metadata": {},
   "outputs": [],
   "source": [
    "tree_clf = DecisionTreeClassifier(max_leaf_nodes=6)"
   ]
  },
  {
   "cell_type": "code",
   "execution_count": 15,
   "metadata": {},
   "outputs": [
    {
     "data": {
      "text/plain": [
       "DecisionTreeClassifier(max_leaf_nodes=6)"
      ]
     },
     "execution_count": 15,
     "metadata": {},
     "output_type": "execute_result"
    }
   ],
   "source": [
    "tree_clf.fit(X_train, y_train)"
   ]
  },
  {
   "cell_type": "code",
   "execution_count": 16,
   "metadata": {},
   "outputs": [
    {
     "name": "stdout",
     "output_type": "stream",
     "text": [
      "accuracy_score of test data 0.6151026392961877\n"
     ]
    }
   ],
   "source": [
    "print(\"accuracy_score of test data\", tree_clf.score(X_train, y_train))"
   ]
  },
  {
   "cell_type": "code",
   "execution_count": 17,
   "metadata": {},
   "outputs": [],
   "source": [
    "y_names = tree_clf.classes_\n",
    "export_graphviz(tree_clf, out_file=\"CART_sample.gv\", feature_names=X_names, class_names=y_names)"
   ]
  },
  {
   "cell_type": "markdown",
   "metadata": {},
   "source": [
    "~~~\n",
    "dot CART_sample.dot -Tpng -o image.png\n",
    "~~~\n",
    "\n",
    "![CART_sample](https://user-images.githubusercontent.com/42334717/96284748-fe801b00-1018-11eb-9bae-a04a05658169.png)"
   ]
  }
 ],
 "metadata": {
  "kernelspec": {
   "display_name": "kqr",
   "language": "python",
   "name": "kqr"
  },
  "language_info": {
   "codemirror_mode": {
    "name": "ipython",
    "version": 3
   },
   "file_extension": ".py",
   "mimetype": "text/x-python",
   "name": "python",
   "nbconvert_exporter": "python",
   "pygments_lexer": "ipython3",
   "version": "3.7.3"
  }
 },
 "nbformat": 4,
 "nbformat_minor": 4
}
