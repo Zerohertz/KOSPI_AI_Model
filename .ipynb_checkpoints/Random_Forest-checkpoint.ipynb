{
 "cells": [
  {
   "cell_type": "markdown",
   "metadata": {},
   "source": [
    "# 랜덤 포레스트 기법\n",
    "\n",
    "~~~\n",
    "from sklearn.ensemble import RandomForestClassifier\n",
    "rnd_clf = RandomForestClassifier(n_estimators=100, max_leaf_nodes=40, max_features=8, n_jobs=-1)\n",
    "rnd_clf.fit(X_train, y_train)\n",
    "y_current_pred = rnd_clf.predict(X_new)\n",
    "~~~\n",
    "\n",
    "1. `sklearn` 모듈을 import\n",
    "2. `RandomForestClassifier()`라는 객체(클래스)를 통해 `rnd_clf`라는 인스턴스 생성\n",
    "3. `rnd_clf`의 메서드인 `fit()` 함수를 통해 X와 y에 대한 학습 진행\n",
    "4. `rnd_clf`의 메서드인 `predict()` 함수를 통해 새로운 X를 통해 y에 대한 예측"
   ]
  },
  {
   "cell_type": "code",
   "execution_count": null,
   "metadata": {},
   "outputs": [],
   "source": []
  }
 ],
 "metadata": {
  "kernelspec": {
   "display_name": "kqr",
   "language": "python",
   "name": "kqr"
  },
  "language_info": {
   "codemirror_mode": {
    "name": "ipython",
    "version": 3
   },
   "file_extension": ".py",
   "mimetype": "text/x-python",
   "name": "python",
   "nbconvert_exporter": "python",
   "pygments_lexer": "ipython3",
   "version": "3.7.3"
  }
 },
 "nbformat": 4,
 "nbformat_minor": 4
}
