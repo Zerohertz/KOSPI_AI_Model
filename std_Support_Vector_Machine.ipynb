{
 "cells": [
  {
   "cell_type": "code",
   "execution_count": 1,
   "metadata": {},
   "outputs": [],
   "source": [
    "import numpy as np\n",
    "import pandas as pd\n",
    "import matplotlib.pyplot as plt\n",
    "import sklearn.metrics as mt\n",
    "from sklearn.tree import export_graphviz\n",
    "from sklearn.tree import DecisionTreeClassifier\n",
    "from sklearn.ensemble import RandomForestClassifier\n",
    "from sklearn.model_selection import train_test_split\n",
    "from sklearn.model_selection import StratifiedShuffleSplit\n",
    "from sklearn.model_selection import cross_val_score\n",
    "from sklearn.model_selection import RandomizedSearchCV\n",
    "import joblib\n",
    "from sklearn.metrics import confusion_matrix\n",
    "from sklearn.svm import SVC\n",
    "from sklearn.preprocessing import StandardScaler"
   ]
  },
  {
   "cell_type": "code",
   "execution_count": 2,
   "metadata": {},
   "outputs": [],
   "source": [
    "model_data = pd.read_csv(\"data.csv\")\n",
    "\n",
    "X = model_data.iloc[:, :4]\n",
    "X_names = X.columns\n",
    "y = model_data[\"label_ko\"]\n",
    "\n",
    "X_past = X[y.notna()]\n",
    "y_past = y[y.notna()]\n",
    "\n",
    "sss = StratifiedShuffleSplit(n_splits=1, test_size=0.2, random_state=42)\n",
    "\n",
    "for train_index, test_index in sss.split(X_past, y_past):\n",
    "    X_train, X_test = X_past.iloc[train_index,], X_past.iloc[test_index,]\n",
    "    y_train, y_test = y_past[train_index], y_past[test_index]\n",
    "    \n",
    "sc = StandardScaler()\n",
    "sc.fit(X_train)\n",
    "X_train_std = sc.transform(X_train)\n",
    "X_past_std = sc.transform(X_past)\n",
    "X_test_std = sc.transform(X_test)"
   ]
  },
  {
   "cell_type": "code",
   "execution_count": 3,
   "metadata": {},
   "outputs": [
    {
     "name": "stdout",
     "output_type": "stream",
     "text": [
      "accuracy score mean:  0.8232977806507218\n"
     ]
    }
   ],
   "source": [
    "SVM = SVC(kernel = 'rbf', C = 10.0, gamma = 5, random_state = 0)\n",
    "svm_scores = cross_val_score(SVM, X_train_std, y_train, cv = 5)\n",
    "print(\"accuracy score mean: \", svm_scores.mean())"
   ]
  },
  {
   "cell_type": "code",
   "execution_count": 4,
   "metadata": {},
   "outputs": [
    {
     "data": {
      "text/plain": [
       "0.9362170087976539"
      ]
     },
     "execution_count": 4,
     "metadata": {},
     "output_type": "execute_result"
    }
   ],
   "source": [
    "SVM.fit(X_train_std, y_train)\n",
    "SVM.score(X_train_std, y_train)"
   ]
  },
  {
   "cell_type": "code",
   "execution_count": 5,
   "metadata": {},
   "outputs": [
    {
     "data": {
      "text/plain": [
       "0.8152492668621701"
      ]
     },
     "execution_count": 5,
     "metadata": {},
     "output_type": "execute_result"
    }
   ],
   "source": [
    "y_pred = SVM.predict(X_test_std)\n",
    "mt.accuracy_score(y_test, y_pred)"
   ]
  },
  {
   "cell_type": "code",
   "execution_count": 6,
   "metadata": {},
   "outputs": [
    {
     "name": "stdout",
     "output_type": "stream",
     "text": [
      "\n",
      "<Confusion matrix>\n",
      "(of test)\n",
      "up neutral down\n",
      "[[ 79  16   7]\n",
      " [  9  67  16]\n",
      " [  3  12 132]]\n"
     ]
    }
   ],
   "source": [
    "y_test_pred = SVM.predict(X_test_std)\n",
    "cm1= confusion_matrix(y_test, y_test_pred, labels=[\"up\",\"neutral\",\"down\"])\n",
    "print(\"\\n<Confusion matrix>\")\n",
    "print(\"(of test)\")\n",
    "print(\"up\",\"neutral\",\"down\")\n",
    "print(cm1)"
   ]
  },
  {
   "cell_type": "code",
   "execution_count": 7,
   "metadata": {},
   "outputs": [
    {
     "name": "stdout",
     "output_type": "stream",
     "text": [
      "(of all)\n",
      "up neutral down\n",
      "[[459  26  23]\n",
      " [ 21 395  46]\n",
      " [ 11  23 701]]\n"
     ]
    }
   ],
   "source": [
    "cm2= confusion_matrix(y_past, SVM.predict(X_past_std), labels=[\"up\",\"neutral\",\"down\"])\n",
    "print(\"(of all)\")\n",
    "print(\"up\",\"neutral\",\"down\")\n",
    "print(cm2)"
   ]
  }
 ],
 "metadata": {
  "kernelspec": {
   "display_name": "kqr",
   "language": "python",
   "name": "kqr"
  },
  "language_info": {
   "codemirror_mode": {
    "name": "ipython",
    "version": 3
   },
   "file_extension": ".py",
   "mimetype": "text/x-python",
   "name": "python",
   "nbconvert_exporter": "python",
   "pygments_lexer": "ipython3",
   "version": "3.7.3"
  }
 },
 "nbformat": 4,
 "nbformat_minor": 4
}
