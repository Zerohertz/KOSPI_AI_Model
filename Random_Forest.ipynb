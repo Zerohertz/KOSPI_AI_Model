{
 "cells": [
  {
   "cell_type": "markdown",
   "metadata": {},
   "source": [
    "# 랜덤 포레스트 기법\n",
    "\n",
    "~~~\n",
    "from sklearn.ensemble import RandomForestClassifier\n",
    "rnd_clf = RandomForestClassifier(n_estimators=100, max_leaf_nodes=40, max_features=8, n_jobs=-1)\n",
    "rnd_clf.fit(X_train, y_train)\n",
    "y_current_pred = rnd_clf.predict(X_new)\n",
    "~~~\n",
    "\n",
    "1. `sklearn` 모듈을 import\n",
    "2. `RandomForestClassifier()`라는 객체(클래스)를 통해 `rnd_clf`라는 인스턴스 생성\n",
    "3. `rnd_clf`의 메서드인 `fit()` 함수를 통해 X와 y에 대한 학습 진행\n",
    "4. `rnd_clf`의 메서드인 `predict()` 함수를 통해 새로운 X를 통해 y에 대한 예측"
   ]
  },
  {
   "cell_type": "code",
   "execution_count": 1,
   "metadata": {},
   "outputs": [],
   "source": [
    "import numpy as np\n",
    "import pandas as pd\n",
    "import matplotlib.pyplot as plt\n",
    "import sklearn.metrics as mt\n",
    "from sklearn.tree import export_graphviz\n",
    "from sklearn.tree import DecisionTreeClassifier\n",
    "from sklearn.ensemble import RandomForestClassifier\n",
    "from sklearn.model_selection import train_test_split\n",
    "from sklearn.model_selection import StratifiedShuffleSplit\n",
    "from sklearn.model_selection import cross_val_score\n",
    "from sklearn.model_selection import RandomizedSearchCV\n",
    "import joblib\n",
    "from sklearn.metrics import confusion_matrix"
   ]
  },
  {
   "cell_type": "code",
   "execution_count": 2,
   "metadata": {},
   "outputs": [],
   "source": [
    "model_data = pd.read_csv(\"data.csv\")"
   ]
  },
  {
   "cell_type": "code",
   "execution_count": 3,
   "metadata": {},
   "outputs": [],
   "source": [
    "X = model_data.iloc[:, :4]\n",
    "X_names = X.columns\n",
    "y = model_data[\"label_ko\"]\n",
    "\n",
    "X_past = X[y.notna()]\n",
    "y_past = y[y.notna()]"
   ]
  },
  {
   "cell_type": "code",
   "execution_count": 4,
   "metadata": {},
   "outputs": [],
   "source": [
    "sss = StratifiedShuffleSplit(n_splits=1, test_size=0.2, random_state=42)\n",
    "\n",
    "for train_index, test_index in sss.split(X_past, y_past):\n",
    "    X_train, X_test = X_past.iloc[train_index,], X_past.iloc[test_index,]\n",
    "    y_train, y_test = y_past[train_index], y_past[test_index]"
   ]
  },
  {
   "cell_type": "code",
   "execution_count": 5,
   "metadata": {},
   "outputs": [
    {
     "name": "stdout",
     "output_type": "stream",
     "text": [
      "{'n_estimators': 50, 'max_leaf_nodes': 50, 'max_features': 3}\n"
     ]
    }
   ],
   "source": [
    "rnd_clf = RandomForestClassifier(n_estimators=100, n_jobs=-1, random_state=42)\n",
    "param_dist_rf = {\n",
    "'n_estimators':[50, 100, 500],\n",
    "'max_leaf_nodes':[20, 30, 40, 50],\n",
    "'max_features':[2, 3, 4]\n",
    "}\n",
    "rnd_search = RandomizedSearchCV(rnd_clf, param_dist_rf, cv=10, random_state=42)\n",
    "rnd_search.fit(X_train, y_train)\n",
    "print(rnd_search.best_params_)"
   ]
  },
  {
   "cell_type": "code",
   "execution_count": 6,
   "metadata": {},
   "outputs": [
    {
     "name": "stdout",
     "output_type": "stream",
     "text": [
      "\n",
      "<5-fold cross-validation>\n",
      "accuracy score mean:  0.7529007756948933\n"
     ]
    }
   ],
   "source": [
    "rnd_clf = RandomForestClassifier(n_estimators=100, max_leaf_nodes=40, max_features=4, n_jobs=-1, random_state=42)\n",
    "rnd_scores = cross_val_score(rnd_clf, X_train, y_train, cv = 5)\n",
    "print(\"\\n<5-fold cross-validation>\")\n",
    "print(\"accuracy score mean: \", rnd_scores.mean())"
   ]
  },
  {
   "cell_type": "code",
   "execution_count": 7,
   "metadata": {},
   "outputs": [
    {
     "name": "stdout",
     "output_type": "stream",
     "text": [
      "\n",
      "<AI model: machine learning done >\n",
      "accuracy_score of train data(0.8 of sample):  0.8651026392961877\n"
     ]
    }
   ],
   "source": [
    "rnd_clf.fit(X_train, y_train)\n",
    "print(\"\\n<AI model: machine learning done >\")\n",
    "print(\"accuracy_score of train data(0.8 of sample): \", rnd_clf.score(X_train, y_train))"
   ]
  },
  {
   "cell_type": "code",
   "execution_count": 8,
   "metadata": {},
   "outputs": [
    {
     "name": "stdout",
     "output_type": "stream",
     "text": [
      "accuracy_score of test data(0.2 of sample):  0.7624633431085044\n",
      "accuracy_score of test data:  0.7624633431085044\n"
     ]
    }
   ],
   "source": [
    "print(\"accuracy_score of test data(0.2 of sample): \", rnd_clf.score(X_test, y_test))\n",
    "y_test_pred = rnd_clf.predict(X_test)\n",
    "print(\"accuracy_score of test data: \", mt.accuracy_score(y_test, y_test_pred))"
   ]
  },
  {
   "cell_type": "code",
   "execution_count": 9,
   "metadata": {},
   "outputs": [
    {
     "name": "stdout",
     "output_type": "stream",
     "text": [
      "\n",
      "<Confusion matrix>\n",
      "(of test)\n",
      "up neutral down\n",
      "[[ 76  15  11]\n",
      " [ 10  60  22]\n",
      " [  7  16 124]]\n"
     ]
    }
   ],
   "source": [
    "y_test_pred = rnd_clf.predict(X_test)\n",
    "cm1= confusion_matrix(y_test, y_test_pred, labels=[\"up\",\"neutral\",\"down\"])\n",
    "print(\"\\n<Confusion matrix>\")\n",
    "print(\"(of test)\")\n",
    "print(\"up\",\"neutral\",\"down\")\n",
    "print(cm1)"
   ]
  },
  {
   "cell_type": "code",
   "execution_count": 10,
   "metadata": {},
   "outputs": [
    {
     "name": "stdout",
     "output_type": "stream",
     "text": [
      "(of all)\n",
      "up neutral down\n",
      "[[433  35  40]\n",
      " [ 48 341  73]\n",
      " [ 22  47 666]]\n"
     ]
    }
   ],
   "source": [
    "cm2= confusion_matrix(y_past, rnd_clf.predict(X_past), labels=[\"up\",\"neutral\",\"down\"])\n",
    "print(\"(of all)\")\n",
    "print(\"up\",\"neutral\",\"down\")\n",
    "print(cm2)"
   ]
  },
  {
   "cell_type": "code",
   "execution_count": 11,
   "metadata": {},
   "outputs": [
    {
     "name": "stdout",
     "output_type": "stream",
     "text": [
      "\n",
      "<Feature importance>\n",
      "krw :  0.3937936026579611\n",
      "vko :  0.20050456499441915\n",
      "wti :  0.29812683537099693\n",
      "cboe :  0.10757499697662289\n"
     ]
    }
   ],
   "source": [
    "print(\"\\n<Feature importance>\")\n",
    "for name, score in zip(X.columns, rnd_clf.feature_importances_):\n",
    "    print(name, \": \", score)"
   ]
  },
  {
   "cell_type": "code",
   "execution_count": 12,
   "metadata": {},
   "outputs": [],
   "source": [
    "y_prediction = rnd_clf.predict(X)\n",
    "y_pred = pd.Series(y_prediction, index=y.index)"
   ]
  },
  {
   "cell_type": "code",
   "execution_count": 13,
   "metadata": {},
   "outputs": [
    {
     "name": "stdout",
     "output_type": "stream",
     "text": [
      "\n",
      "< AI model: save >\n"
     ]
    }
   ],
   "source": [
    "joblib.dump(rnd_clf, \"forecast_model.pkl\")\n",
    "print(\"\\n< AI model: save >\")"
   ]
  }
 ],
 "metadata": {
  "kernelspec": {
   "display_name": "kqr",
   "language": "python",
   "name": "kqr"
  },
  "language_info": {
   "codemirror_mode": {
    "name": "ipython",
    "version": 3
   },
   "file_extension": ".py",
   "mimetype": "text/x-python",
   "name": "python",
   "nbconvert_exporter": "python",
   "pygments_lexer": "ipython3",
   "version": "3.7.3"
  }
 },
 "nbformat": 4,
 "nbformat_minor": 4
}
